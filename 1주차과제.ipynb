{
  "nbformat": 4,
  "nbformat_minor": 0,
  "metadata": {
    "colab": {
      "name": "1주차과제.ipynb",
      "provenance": [],
      "collapsed_sections": [],
      "authorship_tag": "ABX9TyOlFzd7I6cVLC3Q4G8KbY8f",
      "include_colab_link": true
    },
    "kernelspec": {
      "name": "python3",
      "display_name": "Python 3"
    }
  },
  "cells": [
    {
      "cell_type": "markdown",
      "metadata": {
        "id": "view-in-github",
        "colab_type": "text"
      },
      "source": [
        "<a href=\"https://colab.research.google.com/github/Kim-GyoungSeo/AI-precourse/blob/master/1%EC%A3%BC%EC%B0%A8%EA%B3%BC%EC%A0%9C.ipynb\" target=\"_parent\"><img src=\"https://colab.research.google.com/assets/colab-badge.svg\" alt=\"Open In Colab\"/></a>"
      ]
    },
    {
      "cell_type": "markdown",
      "metadata": {
        "id": "5GUUFZgB9ZWK",
        "colab_type": "text"
      },
      "source": [
        "###1주차 과제 (2020.05.21)"
      ]
    },
    {
      "cell_type": "markdown",
      "metadata": {
        "id": "WgLU5nov9AlN",
        "colab_type": "text"
      },
      "source": [
        "\n",
        "\n",
        "###<언어> \n",
        "번역서비스 : 카카오의 AI 기반 번역 서비스인 ‘카카오 i 번역’ 한국어를 기반으로 중국어, 영어, 일본어, 인도네시아어, 베트남어, 포르투갈어, 아랍어, 러시아어, 태국어, 이탈리아어, 뱅골어, 말레이시아어, 힌디어, 네덜란드어, 독일어, 터키어, 프랑스어, 스페인어 등 총 19개의 언어 번역이 가능해짐\n",
        "\n",
        "\n",
        "\n",
        "###<음성> \n",
        "AI 스피커 : 손을 이용하지 않고도 편리하게 기기를 관리하거나 제어할 수 있고 사용자와 음성으로 의사소통 \n",
        "\n",
        "언어학습 : 음성으로 말하는 언어 발음이 정확한지 판단함\n",
        "\n",
        "\n",
        "\n",
        "###<이미지> \n",
        "얼굴인식 :국립과학수사연구원 법의학센터에 설치된 워크스루(walk through)는 출입하는 사람들의 얼굴을 인식하여 개인 식별 방법 프로그램으로 신분증을 태그하지 않고 자연스럽게 출입 가능함\n",
        "\n",
        "\n",
        "\n",
        "###<자율주행> \n",
        "자율주행 로봇공기청정기(ATMOBOTAVA) :　세계 최초 자율 주행 로봇공기청정기로서 스마트폰 얼굴 인식 기능, 360도 서라운드 필터로 빠르고 정확한 정화가 가능함"
      ]
    },
    {
      "cell_type": "markdown",
      "metadata": {
        "id": "gYU47JNX9P-D",
        "colab_type": "text"
      },
      "source": [
        ""
      ]
    }
  ]
}